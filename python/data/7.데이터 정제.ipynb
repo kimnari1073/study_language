{
 "cells": [
  {
   "cell_type": "markdown",
   "id": "f81afaf2",
   "metadata": {},
   "source": [
    "# 7.데이터 정제 - 빠진 데이터, 이상한 데이터 제거하기\n",
    "1. 결측치 (빠진 데이터)\n",
    "2. 이상치 (이상한 데이터)"
   ]
  },
  {
   "cell_type": "markdown",
   "id": "3954a559",
   "metadata": {},
   "source": [
    "## 7-1. 결측치 (빠진 데이터 찾아 정제)"
   ]
  },
  {
   "cell_type": "markdown",
   "id": "f523e9d1",
   "metadata": {},
   "source": [
    "### Lab 1:결측치 찾기\n",
    "- 결측치 만들기\n",
    "- 결측치 확인하기"
   ]
  },
  {
   "cell_type": "code",
   "execution_count": 1,
   "id": "94bf2425",
   "metadata": {},
   "outputs": [],
   "source": [
    "import numpy as np\n",
    "import pandas as pd"
   ]
  },
  {
   "cell_type": "code",
   "execution_count": 2,
   "id": "2027b2ef",
   "metadata": {},
   "outputs": [
    {
     "data": {
      "text/html": [
       "<div>\n",
       "<style scoped>\n",
       "    .dataframe tbody tr th:only-of-type {\n",
       "        vertical-align: middle;\n",
       "    }\n",
       "\n",
       "    .dataframe tbody tr th {\n",
       "        vertical-align: top;\n",
       "    }\n",
       "\n",
       "    .dataframe thead th {\n",
       "        text-align: right;\n",
       "    }\n",
       "</style>\n",
       "<table border=\"1\" class=\"dataframe\">\n",
       "  <thead>\n",
       "    <tr style=\"text-align: right;\">\n",
       "      <th></th>\n",
       "      <th>gender</th>\n",
       "      <th>score</th>\n",
       "    </tr>\n",
       "  </thead>\n",
       "  <tbody>\n",
       "    <tr>\n",
       "      <th>0</th>\n",
       "      <td>M</td>\n",
       "      <td>5.0</td>\n",
       "    </tr>\n",
       "    <tr>\n",
       "      <th>1</th>\n",
       "      <td>F</td>\n",
       "      <td>4.0</td>\n",
       "    </tr>\n",
       "    <tr>\n",
       "      <th>2</th>\n",
       "      <td>NaN</td>\n",
       "      <td>3.0</td>\n",
       "    </tr>\n",
       "    <tr>\n",
       "      <th>3</th>\n",
       "      <td>M</td>\n",
       "      <td>4.0</td>\n",
       "    </tr>\n",
       "    <tr>\n",
       "      <th>4</th>\n",
       "      <td>F</td>\n",
       "      <td>NaN</td>\n",
       "    </tr>\n",
       "  </tbody>\n",
       "</table>\n",
       "</div>"
      ],
      "text/plain": [
       "  gender  score\n",
       "0      M    5.0\n",
       "1      F    4.0\n",
       "2    NaN    3.0\n",
       "3      M    4.0\n",
       "4      F    NaN"
      ]
     },
     "execution_count": 2,
     "metadata": {},
     "output_type": "execute_result"
    }
   ],
   "source": [
    "#결측치가 들어있는 데이터 프레임 만들기\n",
    "#NaN : Not a Number : 숫자 형태의 누락된 데이터\n",
    "df = pd.DataFrame({'gender':['M','F',np.nan,'M','F'],\n",
    "                  'score':[5,4,3,4,np.nan]})\n",
    "df"
   ]
  },
  {
   "cell_type": "code",
   "execution_count": 3,
   "id": "346c092f",
   "metadata": {},
   "outputs": [
    {
     "data": {
      "text/html": [
       "<div>\n",
       "<style scoped>\n",
       "    .dataframe tbody tr th:only-of-type {\n",
       "        vertical-align: middle;\n",
       "    }\n",
       "\n",
       "    .dataframe tbody tr th {\n",
       "        vertical-align: top;\n",
       "    }\n",
       "\n",
       "    .dataframe thead th {\n",
       "        text-align: right;\n",
       "    }\n",
       "</style>\n",
       "<table border=\"1\" class=\"dataframe\">\n",
       "  <thead>\n",
       "    <tr style=\"text-align: right;\">\n",
       "      <th></th>\n",
       "      <th>gender</th>\n",
       "      <th>score</th>\n",
       "    </tr>\n",
       "  </thead>\n",
       "  <tbody>\n",
       "    <tr>\n",
       "      <th>0</th>\n",
       "      <td>False</td>\n",
       "      <td>False</td>\n",
       "    </tr>\n",
       "    <tr>\n",
       "      <th>1</th>\n",
       "      <td>False</td>\n",
       "      <td>False</td>\n",
       "    </tr>\n",
       "    <tr>\n",
       "      <th>2</th>\n",
       "      <td>True</td>\n",
       "      <td>False</td>\n",
       "    </tr>\n",
       "    <tr>\n",
       "      <th>3</th>\n",
       "      <td>False</td>\n",
       "      <td>False</td>\n",
       "    </tr>\n",
       "    <tr>\n",
       "      <th>4</th>\n",
       "      <td>False</td>\n",
       "      <td>True</td>\n",
       "    </tr>\n",
       "  </tbody>\n",
       "</table>\n",
       "</div>"
      ],
      "text/plain": [
       "   gender  score\n",
       "0   False  False\n",
       "1   False  False\n",
       "2    True  False\n",
       "3   False  False\n",
       "4   False   True"
      ]
     },
     "execution_count": 3,
     "metadata": {},
     "output_type": "execute_result"
    }
   ],
   "source": [
    "#결측치 확인하기\n",
    "#na : Not Avaiable\n",
    "pd.isna(df)"
   ]
  },
  {
   "cell_type": "code",
   "execution_count": 4,
   "id": "974c9096",
   "metadata": {},
   "outputs": [
    {
     "data": {
      "text/plain": [
       "gender    1\n",
       "score     1\n",
       "dtype: int64"
      ]
     },
     "execution_count": 4,
     "metadata": {},
     "output_type": "execute_result"
    }
   ],
   "source": [
    "#결측치 개수\n",
    "pd.isna(df).sum()"
   ]
  },
  {
   "cell_type": "code",
   "execution_count": 5,
   "id": "66f007db",
   "metadata": {},
   "outputs": [
    {
     "data": {
      "text/plain": [
       "1"
      ]
     },
     "execution_count": 5,
     "metadata": {},
     "output_type": "execute_result"
    }
   ],
   "source": [
    "#컬럼(변수) score의 결측치 개수\n",
    "pd.isna(df)['score'].sum()"
   ]
  },
  {
   "cell_type": "markdown",
   "id": "205e2a99",
   "metadata": {},
   "source": [
    "### Lab 2:결측치 제거\n",
    "- 결측치 있는 행 제거하기\n",
    "- 여러 변수에 결측치 없는 데이터 추출하기\n",
    "- 결측치가 하나라도 있으면 제거하기"
   ]
  },
  {
   "cell_type": "code",
   "execution_count": 6,
   "id": "c2e2b944",
   "metadata": {},
   "outputs": [
    {
     "data": {
      "text/html": [
       "<div>\n",
       "<style scoped>\n",
       "    .dataframe tbody tr th:only-of-type {\n",
       "        vertical-align: middle;\n",
       "    }\n",
       "\n",
       "    .dataframe tbody tr th {\n",
       "        vertical-align: top;\n",
       "    }\n",
       "\n",
       "    .dataframe thead th {\n",
       "        text-align: right;\n",
       "    }\n",
       "</style>\n",
       "<table border=\"1\" class=\"dataframe\">\n",
       "  <thead>\n",
       "    <tr style=\"text-align: right;\">\n",
       "      <th></th>\n",
       "      <th>gender</th>\n",
       "      <th>score</th>\n",
       "    </tr>\n",
       "  </thead>\n",
       "  <tbody>\n",
       "    <tr>\n",
       "      <th>0</th>\n",
       "      <td>M</td>\n",
       "      <td>5.0</td>\n",
       "    </tr>\n",
       "    <tr>\n",
       "      <th>1</th>\n",
       "      <td>F</td>\n",
       "      <td>4.0</td>\n",
       "    </tr>\n",
       "    <tr>\n",
       "      <th>3</th>\n",
       "      <td>M</td>\n",
       "      <td>4.0</td>\n",
       "    </tr>\n",
       "  </tbody>\n",
       "</table>\n",
       "</div>"
      ],
      "text/plain": [
       "  gender  score\n",
       "0      M    5.0\n",
       "1      F    4.0\n",
       "3      M    4.0"
      ]
     },
     "execution_count": 6,
     "metadata": {},
     "output_type": "execute_result"
    }
   ],
   "source": [
    "#score 변수,gender 변수에서 결측치가 있는 행을 제거\n",
    "#df에는 반영되지 않는다.\n",
    "df.dropna(subset = ['score','gender'])"
   ]
  },
  {
   "cell_type": "code",
   "execution_count": 7,
   "id": "5be557ed",
   "metadata": {},
   "outputs": [
    {
     "data": {
      "text/html": [
       "<div>\n",
       "<style scoped>\n",
       "    .dataframe tbody tr th:only-of-type {\n",
       "        vertical-align: middle;\n",
       "    }\n",
       "\n",
       "    .dataframe tbody tr th {\n",
       "        vertical-align: top;\n",
       "    }\n",
       "\n",
       "    .dataframe thead th {\n",
       "        text-align: right;\n",
       "    }\n",
       "</style>\n",
       "<table border=\"1\" class=\"dataframe\">\n",
       "  <thead>\n",
       "    <tr style=\"text-align: right;\">\n",
       "      <th></th>\n",
       "      <th>gender</th>\n",
       "      <th>score</th>\n",
       "    </tr>\n",
       "  </thead>\n",
       "  <tbody>\n",
       "    <tr>\n",
       "      <th>0</th>\n",
       "      <td>M</td>\n",
       "      <td>5.0</td>\n",
       "    </tr>\n",
       "    <tr>\n",
       "      <th>1</th>\n",
       "      <td>F</td>\n",
       "      <td>4.0</td>\n",
       "    </tr>\n",
       "    <tr>\n",
       "      <th>3</th>\n",
       "      <td>M</td>\n",
       "      <td>4.0</td>\n",
       "    </tr>\n",
       "  </tbody>\n",
       "</table>\n",
       "</div>"
      ],
      "text/plain": [
       "  gender  score\n",
       "0      M    5.0\n",
       "1      F    4.0\n",
       "3      M    4.0"
      ]
     },
     "execution_count": 7,
     "metadata": {},
     "output_type": "execute_result"
    }
   ],
   "source": [
    "#결측치가 하나라도 있으면 모두 제거하기\n",
    "df.dropna()"
   ]
  },
  {
   "cell_type": "markdown",
   "id": "68439b7f",
   "metadata": {},
   "source": [
    "### Lab 3:결측치를 평균 값으로 대체하기\n",
    "- exam 데이터에서 math의 일부 데이터를 결측치로 대체하기\n",
    "- exam의 결측치를 math의 평균 값을 구하여 평균값으로 대체하기"
   ]
  },
  {
   "cell_type": "code",
   "execution_count": 8,
   "id": "38e049af",
   "metadata": {},
   "outputs": [
    {
     "data": {
      "text/html": [
       "<div>\n",
       "<style scoped>\n",
       "    .dataframe tbody tr th:only-of-type {\n",
       "        vertical-align: middle;\n",
       "    }\n",
       "\n",
       "    .dataframe tbody tr th {\n",
       "        vertical-align: top;\n",
       "    }\n",
       "\n",
       "    .dataframe thead th {\n",
       "        text-align: right;\n",
       "    }\n",
       "</style>\n",
       "<table border=\"1\" class=\"dataframe\">\n",
       "  <thead>\n",
       "    <tr style=\"text-align: right;\">\n",
       "      <th></th>\n",
       "      <th>id</th>\n",
       "      <th>nclass</th>\n",
       "      <th>math</th>\n",
       "      <th>english</th>\n",
       "      <th>science</th>\n",
       "    </tr>\n",
       "  </thead>\n",
       "  <tbody>\n",
       "    <tr>\n",
       "      <th>0</th>\n",
       "      <td>1</td>\n",
       "      <td>1</td>\n",
       "      <td>50</td>\n",
       "      <td>98</td>\n",
       "      <td>50</td>\n",
       "    </tr>\n",
       "    <tr>\n",
       "      <th>1</th>\n",
       "      <td>2</td>\n",
       "      <td>1</td>\n",
       "      <td>60</td>\n",
       "      <td>97</td>\n",
       "      <td>60</td>\n",
       "    </tr>\n",
       "    <tr>\n",
       "      <th>2</th>\n",
       "      <td>3</td>\n",
       "      <td>1</td>\n",
       "      <td>45</td>\n",
       "      <td>86</td>\n",
       "      <td>78</td>\n",
       "    </tr>\n",
       "    <tr>\n",
       "      <th>3</th>\n",
       "      <td>4</td>\n",
       "      <td>1</td>\n",
       "      <td>30</td>\n",
       "      <td>98</td>\n",
       "      <td>58</td>\n",
       "    </tr>\n",
       "    <tr>\n",
       "      <th>4</th>\n",
       "      <td>5</td>\n",
       "      <td>2</td>\n",
       "      <td>25</td>\n",
       "      <td>80</td>\n",
       "      <td>65</td>\n",
       "    </tr>\n",
       "  </tbody>\n",
       "</table>\n",
       "</div>"
      ],
      "text/plain": [
       "   id  nclass  math  english  science\n",
       "0   1       1    50       98       50\n",
       "1   2       1    60       97       60\n",
       "2   3       1    45       86       78\n",
       "3   4       1    30       98       58\n",
       "4   5       2    25       80       65"
      ]
     },
     "execution_count": 8,
     "metadata": {},
     "output_type": "execute_result"
    }
   ],
   "source": [
    "exam = pd.read_csv('exam.csv')\n",
    "exam.head()"
   ]
  },
  {
   "cell_type": "code",
   "execution_count": 9,
   "id": "bbcbf451",
   "metadata": {},
   "outputs": [
    {
     "data": {
      "text/html": [
       "<div>\n",
       "<style scoped>\n",
       "    .dataframe tbody tr th:only-of-type {\n",
       "        vertical-align: middle;\n",
       "    }\n",
       "\n",
       "    .dataframe tbody tr th {\n",
       "        vertical-align: top;\n",
       "    }\n",
       "\n",
       "    .dataframe thead th {\n",
       "        text-align: right;\n",
       "    }\n",
       "</style>\n",
       "<table border=\"1\" class=\"dataframe\">\n",
       "  <thead>\n",
       "    <tr style=\"text-align: right;\">\n",
       "      <th></th>\n",
       "      <th>id</th>\n",
       "      <th>nclass</th>\n",
       "      <th>math</th>\n",
       "      <th>english</th>\n",
       "      <th>science</th>\n",
       "    </tr>\n",
       "  </thead>\n",
       "  <tbody>\n",
       "    <tr>\n",
       "      <th>0</th>\n",
       "      <td>1</td>\n",
       "      <td>1</td>\n",
       "      <td>50.0</td>\n",
       "      <td>98</td>\n",
       "      <td>50</td>\n",
       "    </tr>\n",
       "    <tr>\n",
       "      <th>1</th>\n",
       "      <td>2</td>\n",
       "      <td>1</td>\n",
       "      <td>60.0</td>\n",
       "      <td>97</td>\n",
       "      <td>60</td>\n",
       "    </tr>\n",
       "    <tr>\n",
       "      <th>2</th>\n",
       "      <td>3</td>\n",
       "      <td>1</td>\n",
       "      <td>NaN</td>\n",
       "      <td>86</td>\n",
       "      <td>78</td>\n",
       "    </tr>\n",
       "    <tr>\n",
       "      <th>3</th>\n",
       "      <td>4</td>\n",
       "      <td>1</td>\n",
       "      <td>30.0</td>\n",
       "      <td>98</td>\n",
       "      <td>58</td>\n",
       "    </tr>\n",
       "    <tr>\n",
       "      <th>4</th>\n",
       "      <td>5</td>\n",
       "      <td>2</td>\n",
       "      <td>25.0</td>\n",
       "      <td>80</td>\n",
       "      <td>65</td>\n",
       "    </tr>\n",
       "  </tbody>\n",
       "</table>\n",
       "</div>"
      ],
      "text/plain": [
       "   id  nclass  math  english  science\n",
       "0   1       1  50.0       98       50\n",
       "1   2       1  60.0       97       60\n",
       "2   3       1   NaN       86       78\n",
       "3   4       1  30.0       98       58\n",
       "4   5       2  25.0       80       65"
      ]
     },
     "execution_count": 9,
     "metadata": {},
     "output_type": "execute_result"
    }
   ],
   "source": [
    "#결측치 임의로 만들기\n",
    "exam.loc[[2,7,14],['math']] = np.nan\n",
    "exam.head()"
   ]
  },
  {
   "cell_type": "code",
   "execution_count": 10,
   "id": "ebed9a70",
   "metadata": {},
   "outputs": [
    {
     "data": {
      "text/plain": [
       "55.23529411764706"
      ]
     },
     "execution_count": 10,
     "metadata": {},
     "output_type": "execute_result"
    }
   ],
   "source": [
    "#math 평균값 구하기\n",
    "exam['math'].mean()"
   ]
  },
  {
   "cell_type": "code",
   "execution_count": 11,
   "id": "45484421",
   "metadata": {},
   "outputs": [
    {
     "data": {
      "text/html": [
       "<div>\n",
       "<style scoped>\n",
       "    .dataframe tbody tr th:only-of-type {\n",
       "        vertical-align: middle;\n",
       "    }\n",
       "\n",
       "    .dataframe tbody tr th {\n",
       "        vertical-align: top;\n",
       "    }\n",
       "\n",
       "    .dataframe thead th {\n",
       "        text-align: right;\n",
       "    }\n",
       "</style>\n",
       "<table border=\"1\" class=\"dataframe\">\n",
       "  <thead>\n",
       "    <tr style=\"text-align: right;\">\n",
       "      <th></th>\n",
       "      <th>id</th>\n",
       "      <th>nclass</th>\n",
       "      <th>math</th>\n",
       "      <th>english</th>\n",
       "      <th>science</th>\n",
       "    </tr>\n",
       "  </thead>\n",
       "  <tbody>\n",
       "    <tr>\n",
       "      <th>0</th>\n",
       "      <td>1</td>\n",
       "      <td>1</td>\n",
       "      <td>50.0</td>\n",
       "      <td>98</td>\n",
       "      <td>50</td>\n",
       "    </tr>\n",
       "    <tr>\n",
       "      <th>1</th>\n",
       "      <td>2</td>\n",
       "      <td>1</td>\n",
       "      <td>60.0</td>\n",
       "      <td>97</td>\n",
       "      <td>60</td>\n",
       "    </tr>\n",
       "    <tr>\n",
       "      <th>2</th>\n",
       "      <td>3</td>\n",
       "      <td>1</td>\n",
       "      <td>55.0</td>\n",
       "      <td>86</td>\n",
       "      <td>78</td>\n",
       "    </tr>\n",
       "    <tr>\n",
       "      <th>3</th>\n",
       "      <td>4</td>\n",
       "      <td>1</td>\n",
       "      <td>30.0</td>\n",
       "      <td>98</td>\n",
       "      <td>58</td>\n",
       "    </tr>\n",
       "    <tr>\n",
       "      <th>4</th>\n",
       "      <td>5</td>\n",
       "      <td>2</td>\n",
       "      <td>25.0</td>\n",
       "      <td>80</td>\n",
       "      <td>65</td>\n",
       "    </tr>\n",
       "  </tbody>\n",
       "</table>\n",
       "</div>"
      ],
      "text/plain": [
       "   id  nclass  math  english  science\n",
       "0   1       1  50.0       98       50\n",
       "1   2       1  60.0       97       60\n",
       "2   3       1  55.0       86       78\n",
       "3   4       1  30.0       98       58\n",
       "4   5       2  25.0       80       65"
      ]
     },
     "execution_count": 11,
     "metadata": {},
     "output_type": "execute_result"
    }
   ],
   "source": [
    "#결측치 값을 평균값으로 대체하기\n",
    "exam['math'] = exam['math'].fillna(55)\n",
    "exam.head()"
   ]
  },
  {
   "cell_type": "code",
   "execution_count": 12,
   "id": "38d24ddc",
   "metadata": {},
   "outputs": [
    {
     "data": {
      "text/plain": [
       "0"
      ]
     },
     "execution_count": 12,
     "metadata": {},
     "output_type": "execute_result"
    }
   ],
   "source": [
    "#결측치 확인\n",
    "exam['math'].isna().sum()"
   ]
  },
  {
   "cell_type": "markdown",
   "id": "7c6677be",
   "metadata": {},
   "source": [
    "### Lab 4: 혼자서 해보기 (mpg 데이터 분석)\n",
    "- mpg 데이터에 결측치를 만들고, 데이터를 분석해보기\n",
    "- 인덱스 값 [64,123,130,152,211]의 고속도로 연비(hwy) 값을 결측치로 만들기"
   ]
  },
  {
   "cell_type": "code",
   "execution_count": 13,
   "id": "6d94446e",
   "metadata": {
    "scrolled": true
   },
   "outputs": [
    {
     "data": {
      "text/html": [
       "<div>\n",
       "<style scoped>\n",
       "    .dataframe tbody tr th:only-of-type {\n",
       "        vertical-align: middle;\n",
       "    }\n",
       "\n",
       "    .dataframe tbody tr th {\n",
       "        vertical-align: top;\n",
       "    }\n",
       "\n",
       "    .dataframe thead th {\n",
       "        text-align: right;\n",
       "    }\n",
       "</style>\n",
       "<table border=\"1\" class=\"dataframe\">\n",
       "  <thead>\n",
       "    <tr style=\"text-align: right;\">\n",
       "      <th></th>\n",
       "      <th>manufacturer</th>\n",
       "      <th>model</th>\n",
       "      <th>displ</th>\n",
       "      <th>year</th>\n",
       "      <th>cyl</th>\n",
       "      <th>trans</th>\n",
       "      <th>drv</th>\n",
       "      <th>cty</th>\n",
       "      <th>hwy</th>\n",
       "      <th>fl</th>\n",
       "      <th>category</th>\n",
       "    </tr>\n",
       "  </thead>\n",
       "  <tbody>\n",
       "    <tr>\n",
       "      <th>0</th>\n",
       "      <td>audi</td>\n",
       "      <td>a4</td>\n",
       "      <td>1.8</td>\n",
       "      <td>1999</td>\n",
       "      <td>4</td>\n",
       "      <td>auto(l5)</td>\n",
       "      <td>f</td>\n",
       "      <td>18</td>\n",
       "      <td>29</td>\n",
       "      <td>p</td>\n",
       "      <td>compact</td>\n",
       "    </tr>\n",
       "    <tr>\n",
       "      <th>1</th>\n",
       "      <td>audi</td>\n",
       "      <td>a4</td>\n",
       "      <td>1.8</td>\n",
       "      <td>1999</td>\n",
       "      <td>4</td>\n",
       "      <td>manual(m5)</td>\n",
       "      <td>f</td>\n",
       "      <td>21</td>\n",
       "      <td>29</td>\n",
       "      <td>p</td>\n",
       "      <td>compact</td>\n",
       "    </tr>\n",
       "    <tr>\n",
       "      <th>2</th>\n",
       "      <td>audi</td>\n",
       "      <td>a4</td>\n",
       "      <td>2.0</td>\n",
       "      <td>2008</td>\n",
       "      <td>4</td>\n",
       "      <td>manual(m6)</td>\n",
       "      <td>f</td>\n",
       "      <td>20</td>\n",
       "      <td>31</td>\n",
       "      <td>p</td>\n",
       "      <td>compact</td>\n",
       "    </tr>\n",
       "    <tr>\n",
       "      <th>3</th>\n",
       "      <td>audi</td>\n",
       "      <td>a4</td>\n",
       "      <td>2.0</td>\n",
       "      <td>2008</td>\n",
       "      <td>4</td>\n",
       "      <td>auto(av)</td>\n",
       "      <td>f</td>\n",
       "      <td>21</td>\n",
       "      <td>30</td>\n",
       "      <td>p</td>\n",
       "      <td>compact</td>\n",
       "    </tr>\n",
       "    <tr>\n",
       "      <th>4</th>\n",
       "      <td>audi</td>\n",
       "      <td>a4</td>\n",
       "      <td>2.8</td>\n",
       "      <td>1999</td>\n",
       "      <td>6</td>\n",
       "      <td>auto(l5)</td>\n",
       "      <td>f</td>\n",
       "      <td>16</td>\n",
       "      <td>26</td>\n",
       "      <td>p</td>\n",
       "      <td>compact</td>\n",
       "    </tr>\n",
       "  </tbody>\n",
       "</table>\n",
       "</div>"
      ],
      "text/plain": [
       "  manufacturer model  displ  year  cyl       trans drv  cty  hwy fl category\n",
       "0         audi    a4    1.8  1999    4    auto(l5)   f   18   29  p  compact\n",
       "1         audi    a4    1.8  1999    4  manual(m5)   f   21   29  p  compact\n",
       "2         audi    a4    2.0  2008    4  manual(m6)   f   20   31  p  compact\n",
       "3         audi    a4    2.0  2008    4    auto(av)   f   21   30  p  compact\n",
       "4         audi    a4    2.8  1999    6    auto(l5)   f   16   26  p  compact"
      ]
     },
     "execution_count": 13,
     "metadata": {},
     "output_type": "execute_result"
    }
   ],
   "source": [
    "mpg = pd.read_csv('mpg.csv')\n",
    "mpg.head()"
   ]
  },
  {
   "cell_type": "code",
   "execution_count": 14,
   "id": "4446364e",
   "metadata": {},
   "outputs": [],
   "source": [
    "#인덱스 값[64,123,130,152,211]의 고속도로 연비(hwy) 값을 결측치로 만들기"
   ]
  },
  {
   "cell_type": "code",
   "execution_count": 15,
   "id": "cb2183b8",
   "metadata": {},
   "outputs": [],
   "source": [
    "#인덱스 값 [64, 65]의 데이터를 출력해서 NaN값 확인"
   ]
  },
  {
   "cell_type": "markdown",
   "id": "53096c25",
   "metadata": {},
   "source": [
    "Q1: 구동 방식(drv)별로 고속도로 연비(hwy) 평균을 비교하려고 한다.<br>\n",
    "drv와 hwy 변수에 결측치가 몇개 있는지 확인하기"
   ]
  },
  {
   "cell_type": "code",
   "execution_count": 16,
   "id": "9666f895",
   "metadata": {},
   "outputs": [],
   "source": [
    "#변수 drv, hwy 값에 결측치가 몇개인지 확인하기"
   ]
  },
  {
   "cell_type": "markdown",
   "id": "89f74b1b",
   "metadata": {},
   "source": [
    "Q2: df.dropna()를 이용하여 hwy 변수의 결측치를 제거하고, 어떤 구동 방식의 hwy 평균 연비가 높은지 알아보시오. 하나의 pandas 구문으로 작성해 보시오"
   ]
  },
  {
   "cell_type": "code",
   "execution_count": 17,
   "id": "4fde964e",
   "metadata": {},
   "outputs": [],
   "source": [
    "#변수 hwy 값에 결측치가 몇개인지 확인"
   ]
  },
  {
   "cell_type": "code",
   "execution_count": 18,
   "id": "64f57561",
   "metadata": {},
   "outputs": [],
   "source": [
    "#변수 hwy 변수 값에 결측치를 제거하고, 어떤 구동 방식(drv)의 hwy 평균 연비가 높은지"
   ]
  },
  {
   "cell_type": "markdown",
   "id": "01050c36",
   "metadata": {},
   "source": [
    "## 7-2.이상치 (이상치 찾아 정제하기)"
   ]
  },
  {
   "cell_type": "markdown",
   "id": "3d4ff3fc",
   "metadata": {},
   "source": [
    "### Lab 5:이상치 정제하기\n",
    "- 이상치 : 정상 범위에서 크게 벗어난 값 ex) 몸무게 930kg\n",
    "1. 이상치를 갖는 데이터 만들기\n",
    "2. 이상치 확인하기\n",
    "3. 결측 처리하기\n",
    "4. 평균 구하기"
   ]
  },
  {
   "cell_type": "code",
   "execution_count": 19,
   "id": "dcd23947",
   "metadata": {},
   "outputs": [
    {
     "data": {
      "text/html": [
       "<div>\n",
       "<style scoped>\n",
       "    .dataframe tbody tr th:only-of-type {\n",
       "        vertical-align: middle;\n",
       "    }\n",
       "\n",
       "    .dataframe tbody tr th {\n",
       "        vertical-align: top;\n",
       "    }\n",
       "\n",
       "    .dataframe thead th {\n",
       "        text-align: right;\n",
       "    }\n",
       "</style>\n",
       "<table border=\"1\" class=\"dataframe\">\n",
       "  <thead>\n",
       "    <tr style=\"text-align: right;\">\n",
       "      <th></th>\n",
       "      <th>gender</th>\n",
       "      <th>score</th>\n",
       "    </tr>\n",
       "  </thead>\n",
       "  <tbody>\n",
       "    <tr>\n",
       "      <th>0</th>\n",
       "      <td>1</td>\n",
       "      <td>5</td>\n",
       "    </tr>\n",
       "    <tr>\n",
       "      <th>1</th>\n",
       "      <td>2</td>\n",
       "      <td>4</td>\n",
       "    </tr>\n",
       "    <tr>\n",
       "      <th>2</th>\n",
       "      <td>1</td>\n",
       "      <td>3</td>\n",
       "    </tr>\n",
       "    <tr>\n",
       "      <th>3</th>\n",
       "      <td>3</td>\n",
       "      <td>4</td>\n",
       "    </tr>\n",
       "    <tr>\n",
       "      <th>4</th>\n",
       "      <td>2</td>\n",
       "      <td>2</td>\n",
       "    </tr>\n",
       "    <tr>\n",
       "      <th>5</th>\n",
       "      <td>1</td>\n",
       "      <td>6</td>\n",
       "    </tr>\n",
       "  </tbody>\n",
       "</table>\n",
       "</div>"
      ],
      "text/plain": [
       "   gender  score\n",
       "0       1      5\n",
       "1       2      4\n",
       "2       1      3\n",
       "3       3      4\n",
       "4       2      2\n",
       "5       1      6"
      ]
     },
     "execution_count": 19,
     "metadata": {},
     "output_type": "execute_result"
    }
   ],
   "source": [
    "#이상치를 갖는 데이터 만들기\n",
    "#gender (남자 = 1, 여자 = 2)\n",
    "#score (1점~5점) 5점 척도로 분류\n",
    "#이상치 : gender - 3, score - 6\n",
    "df = pd.DataFrame({'gender'   : [1, 2, 1, 3, 2, 1], \n",
    "                   'score' : [5, 4, 3, 4, 2, 6]})\n",
    "df"
   ]
  },
  {
   "cell_type": "code",
   "execution_count": 20,
   "id": "af46e035",
   "metadata": {},
   "outputs": [
    {
     "data": {
      "text/plain": [
       "1    3\n",
       "2    2\n",
       "3    1\n",
       "Name: gender, dtype: int64"
      ]
     },
     "execution_count": 20,
     "metadata": {},
     "output_type": "execute_result"
    }
   ],
   "source": [
    "# 이상치 확인하기\n",
    "# gender 값의 집단별 빈도수 확인 - 3값이 존재\n",
    "df['gender'].value_counts().sort_index()"
   ]
  },
  {
   "cell_type": "code",
   "execution_count": 21,
   "id": "30f3f3d7",
   "metadata": {},
   "outputs": [
    {
     "data": {
      "text/plain": [
       "2    1\n",
       "3    1\n",
       "4    2\n",
       "5    1\n",
       "6    1\n",
       "Name: score, dtype: int64"
      ]
     },
     "execution_count": 21,
     "metadata": {},
     "output_type": "execute_result"
    }
   ],
   "source": [
    "#이상치 확인하기\n",
    "# score 값의 집단별 빈도수 확인 - 6값이 존재\n",
    "df['score'].value_counts().sort_index()"
   ]
  },
  {
   "cell_type": "code",
   "execution_count": 22,
   "id": "9e4d8b3d",
   "metadata": {},
   "outputs": [
    {
     "data": {
      "text/html": [
       "<div>\n",
       "<style scoped>\n",
       "    .dataframe tbody tr th:only-of-type {\n",
       "        vertical-align: middle;\n",
       "    }\n",
       "\n",
       "    .dataframe tbody tr th {\n",
       "        vertical-align: top;\n",
       "    }\n",
       "\n",
       "    .dataframe thead th {\n",
       "        text-align: right;\n",
       "    }\n",
       "</style>\n",
       "<table border=\"1\" class=\"dataframe\">\n",
       "  <thead>\n",
       "    <tr style=\"text-align: right;\">\n",
       "      <th></th>\n",
       "      <th>gender</th>\n",
       "      <th>score</th>\n",
       "    </tr>\n",
       "  </thead>\n",
       "  <tbody>\n",
       "    <tr>\n",
       "      <th>0</th>\n",
       "      <td>1.0</td>\n",
       "      <td>5.0</td>\n",
       "    </tr>\n",
       "    <tr>\n",
       "      <th>1</th>\n",
       "      <td>2.0</td>\n",
       "      <td>4.0</td>\n",
       "    </tr>\n",
       "    <tr>\n",
       "      <th>2</th>\n",
       "      <td>1.0</td>\n",
       "      <td>3.0</td>\n",
       "    </tr>\n",
       "    <tr>\n",
       "      <th>3</th>\n",
       "      <td>NaN</td>\n",
       "      <td>4.0</td>\n",
       "    </tr>\n",
       "    <tr>\n",
       "      <th>4</th>\n",
       "      <td>2.0</td>\n",
       "      <td>2.0</td>\n",
       "    </tr>\n",
       "    <tr>\n",
       "      <th>5</th>\n",
       "      <td>1.0</td>\n",
       "      <td>NaN</td>\n",
       "    </tr>\n",
       "  </tbody>\n",
       "</table>\n",
       "</div>"
      ],
      "text/plain": [
       "   gender  score\n",
       "0     1.0    5.0\n",
       "1     2.0    4.0\n",
       "2     1.0    3.0\n",
       "3     NaN    4.0\n",
       "4     2.0    2.0\n",
       "5     1.0    NaN"
      ]
     },
     "execution_count": 22,
     "metadata": {},
     "output_type": "execute_result"
    }
   ],
   "source": [
    "#이상 값을 찾아 결측치 부여\n",
    "df['gender'] = np.where(df['gender']==3,np.nan,df['gender'])\n",
    "df['score'] = np.where(df['score']==6, np.nan,df['score'])\n",
    "df"
   ]
  },
  {
   "cell_type": "code",
   "execution_count": 23,
   "id": "1960fb2f",
   "metadata": {},
   "outputs": [
    {
     "data": {
      "text/html": [
       "<div>\n",
       "<style scoped>\n",
       "    .dataframe tbody tr th:only-of-type {\n",
       "        vertical-align: middle;\n",
       "    }\n",
       "\n",
       "    .dataframe tbody tr th {\n",
       "        vertical-align: top;\n",
       "    }\n",
       "\n",
       "    .dataframe thead th {\n",
       "        text-align: right;\n",
       "    }\n",
       "</style>\n",
       "<table border=\"1\" class=\"dataframe\">\n",
       "  <thead>\n",
       "    <tr style=\"text-align: right;\">\n",
       "      <th></th>\n",
       "      <th>mean_score</th>\n",
       "    </tr>\n",
       "    <tr>\n",
       "      <th>gender</th>\n",
       "      <th></th>\n",
       "    </tr>\n",
       "  </thead>\n",
       "  <tbody>\n",
       "    <tr>\n",
       "      <th>1.0</th>\n",
       "      <td>4.0</td>\n",
       "    </tr>\n",
       "    <tr>\n",
       "      <th>2.0</th>\n",
       "      <td>3.0</td>\n",
       "    </tr>\n",
       "  </tbody>\n",
       "</table>\n",
       "</div>"
      ],
      "text/plain": [
       "        mean_score\n",
       "gender            \n",
       "1.0            4.0\n",
       "2.0            3.0"
      ]
     },
     "execution_count": 23,
     "metadata": {},
     "output_type": "execute_result"
    }
   ],
   "source": [
    "#결측치를 제외하고 데이터분석\n",
    "df.dropna(subset=['gender','score']).groupby('gender').agg(mean_score = ('score','mean'))"
   ]
  },
  {
   "cell_type": "markdown",
   "id": "6f7ac1c9",
   "metadata": {},
   "source": [
    "### Lab 6:이상치 제거하기 - 극단적인 값\n",
    "- 값의 정상범위를 정하고, 정상 범위를 벗어난 값을 제거하기\n",
    "- 값의 정상 범위를 정할 때 통계적 기준을 적용할 수 있음\n"
   ]
  },
  {
   "cell_type": "markdown",
   "id": "3bd0671e",
   "metadata": {},
   "source": [
    "1. 상자 그림 살펴보기\n",
    "- 파란색 상잔느 50%의 데이터의 범주\n",
    "- 파란색 상자 안의 선은 medium\n",
    "- 파란색 상자의 맨아래와 맨위는 각각 25% 75%"
   ]
  },
  {
   "cell_type": "code",
   "execution_count": 24,
   "id": "e0e747d9",
   "metadata": {
    "scrolled": true
   },
   "outputs": [
    {
     "data": {
      "text/plain": [
       "<Axes: ylabel='hwy'>"
      ]
     },
     "execution_count": 24,
     "metadata": {},
     "output_type": "execute_result"
    },
    {
     "data": {
      "image/png": "[encoded data removed]",
      "text/plain": [
       "<Figure size 640x480 with 1 Axes>"
      ]
     },
     "metadata": {},
     "output_type": "display_data"
    }
   ],
   "source": [
    "mpg = pd.read_csv('mpg.csv')\n",
    "import seaborn as sns\n",
    "sns.boxplot(data = mpg, y='hwy')"
   ]
  },
  {
   "cell_type": "markdown",
   "id": "0d0798fa",
   "metadata": {},
   "source": [
    "2. 극단치 기준값 구하기\n",
    "- 1사분위수, 3사분위수, IQR, 하한, 상한"
   ]
  },
  {
   "cell_type": "code",
   "execution_count": 25,
   "id": "b0179f54",
   "metadata": {},
   "outputs": [
    {
     "data": {
      "text/html": [
       "<div>\n",
       "<style scoped>\n",
       "    .dataframe tbody tr th:only-of-type {\n",
       "        vertical-align: middle;\n",
       "    }\n",
       "\n",
       "    .dataframe tbody tr th {\n",
       "        vertical-align: top;\n",
       "    }\n",
       "\n",
       "    .dataframe thead th {\n",
       "        text-align: right;\n",
       "    }\n",
       "</style>\n",
       "<table border=\"1\" class=\"dataframe\">\n",
       "  <thead>\n",
       "    <tr style=\"text-align: right;\">\n",
       "      <th></th>\n",
       "      <th>mean_hwy</th>\n",
       "    </tr>\n",
       "    <tr>\n",
       "      <th>drv</th>\n",
       "      <th></th>\n",
       "    </tr>\n",
       "  </thead>\n",
       "  <tbody>\n",
       "    <tr>\n",
       "      <th>4</th>\n",
       "      <td>19.174757</td>\n",
       "    </tr>\n",
       "    <tr>\n",
       "      <th>f</th>\n",
       "      <td>28.160377</td>\n",
       "    </tr>\n",
       "    <tr>\n",
       "      <th>r</th>\n",
       "      <td>21.000000</td>\n",
       "    </tr>\n",
       "  </tbody>\n",
       "</table>\n",
       "</div>"
      ],
      "text/plain": [
       "      mean_hwy\n",
       "drv           \n",
       "4    19.174757\n",
       "f    28.160377\n",
       "r    21.000000"
      ]
     },
     "execution_count": 25,
     "metadata": {},
     "output_type": "execute_result"
    }
   ],
   "source": [
    "#제외하기 전 데이터\n",
    "mpg.dropna(subset=['hwy']).groupby('drv').agg(mean_hwy=('hwy','mean'))"
   ]
  },
  {
   "cell_type": "code",
   "execution_count": 26,
   "id": "9802cb35",
   "metadata": {},
   "outputs": [
    {
     "data": {
      "text/plain": [
       "18.0"
      ]
     },
     "execution_count": 26,
     "metadata": {},
     "output_type": "execute_result"
    }
   ],
   "source": [
    "# 1사분위수\n",
    "pct25 = mpg['hwy'].quantile(.25)\n",
    "pct25"
   ]
  },
  {
   "cell_type": "code",
   "execution_count": 27,
   "id": "dfba924b",
   "metadata": {},
   "outputs": [
    {
     "data": {
      "text/plain": [
       "27.0"
      ]
     },
     "execution_count": 27,
     "metadata": {},
     "output_type": "execute_result"
    }
   ],
   "source": [
    "#3사분위수\n",
    "pct75 = mpg['hwy'].quantile(.75)\n",
    "pct75"
   ]
  },
  {
   "cell_type": "code",
   "execution_count": 28,
   "id": "bd2b81f5",
   "metadata": {},
   "outputs": [
    {
     "data": {
      "text/plain": [
       "9.0"
      ]
     },
     "execution_count": 28,
     "metadata": {},
     "output_type": "execute_result"
    }
   ],
   "source": [
    "#IQR 구하기\n",
    "iqr = pct75 - pct25\n",
    "iqr"
   ]
  },
  {
   "cell_type": "code",
   "execution_count": 29,
   "id": "4a535519",
   "metadata": {},
   "outputs": [
    {
     "data": {
      "text/plain": [
       "4.5"
      ]
     },
     "execution_count": 29,
     "metadata": {},
     "output_type": "execute_result"
    }
   ],
   "source": [
    "#하한 구하기\n",
    "pct25 - 1.5*iqr"
   ]
  },
  {
   "cell_type": "code",
   "execution_count": 30,
   "id": "6865460c",
   "metadata": {},
   "outputs": [
    {
     "data": {
      "text/plain": [
       "40.5"
      ]
     },
     "execution_count": 30,
     "metadata": {},
     "output_type": "execute_result"
    }
   ],
   "source": [
    "#상한 구하기\n",
    "pct75 + 1.5*iqr"
   ]
  },
  {
   "cell_type": "markdown",
   "id": "0fcb520b",
   "metadata": {},
   "source": [
    "3. 극단치를 결측 처리하기\n",
    "- hwy 값이 4.5~40.5를 벗어나면 결측치 처리\n",
    "- (pct25 -1.5iqr) ~ (pct75 + 1.5iqr)"
   ]
  },
  {
   "cell_type": "code",
   "execution_count": 31,
   "id": "6d8d7429",
   "metadata": {},
   "outputs": [
    {
     "data": {
      "text/plain": [
       "3"
      ]
     },
     "execution_count": 31,
     "metadata": {},
     "output_type": "execute_result"
    }
   ],
   "source": [
    "#np.where()의 각 조건을 괄호로 감싸주어야 함\n",
    "mpg['hwy'] = np.where((mpg['hwy']<4.5)|(mpg['hwy']>40.5),\n",
    "                     np.nan, mpg['hwy'])\n",
    "#결측 처리된 값의 수 확인\n",
    "mpg['hwy'].isna().sum()"
   ]
  },
  {
   "cell_type": "markdown",
   "id": "26441736",
   "metadata": {},
   "source": [
    "4. 결측치를 제외하고 데이터 분석\n",
    "- 구동방식(drv)에 따라 고속도로 연비(hwy)가 어떻게 달라지는지 확인"
   ]
  },
  {
   "cell_type": "code",
   "execution_count": 32,
   "id": "ab106c57",
   "metadata": {},
   "outputs": [
    {
     "data": {
      "text/html": [
       "<div>\n",
       "<style scoped>\n",
       "    .dataframe tbody tr th:only-of-type {\n",
       "        vertical-align: middle;\n",
       "    }\n",
       "\n",
       "    .dataframe tbody tr th {\n",
       "        vertical-align: top;\n",
       "    }\n",
       "\n",
       "    .dataframe thead th {\n",
       "        text-align: right;\n",
       "    }\n",
       "</style>\n",
       "<table border=\"1\" class=\"dataframe\">\n",
       "  <thead>\n",
       "    <tr style=\"text-align: right;\">\n",
       "      <th></th>\n",
       "      <th>mean_hwy</th>\n",
       "    </tr>\n",
       "    <tr>\n",
       "      <th>drv</th>\n",
       "      <th></th>\n",
       "    </tr>\n",
       "  </thead>\n",
       "  <tbody>\n",
       "    <tr>\n",
       "      <th>4</th>\n",
       "      <td>19.174757</td>\n",
       "    </tr>\n",
       "    <tr>\n",
       "      <th>f</th>\n",
       "      <td>27.728155</td>\n",
       "    </tr>\n",
       "    <tr>\n",
       "      <th>r</th>\n",
       "      <td>21.000000</td>\n",
       "    </tr>\n",
       "  </tbody>\n",
       "</table>\n",
       "</div>"
      ],
      "text/plain": [
       "      mean_hwy\n",
       "drv           \n",
       "4    19.174757\n",
       "f    27.728155\n",
       "r    21.000000"
      ]
     },
     "execution_count": 32,
     "metadata": {},
     "output_type": "execute_result"
    }
   ],
   "source": [
    "mpg.dropna(subset=['hwy']).groupby('drv').agg(mean_hwy=('hwy','mean'))"
   ]
  },
  {
   "cell_type": "markdown",
   "id": "dee9acf0",
   "metadata": {},
   "source": [
    "### Lab 7:혼자서 해보기\n",
    "1. mpg 데이터에서 구동박식(drv)별 도시 연비(cty)를 분석해 봅시다.\n",
    "2. mpg 데이터에 이상값과 극단값을 할당합니다.\n",
    "- (drv 이상치 할당)mpg.loc[[9,13,57,92],'drv']='k'\n",
    "- (cty 이상치 할당)mpg.loc[[28,42,128,202],'cty']=[3.4.39,42]"
   ]
  },
  {
   "cell_type": "code",
   "execution_count": 33,
   "id": "af2036c1",
   "metadata": {},
   "outputs": [],
   "source": [
    "#drv에는 4(사륜), f(전륜), r(후륜)의 값만 존재함\n",
    "#k는 허용하지 않는 이상치"
   ]
  },
  {
   "cell_type": "code",
   "execution_count": 34,
   "id": "3e204d8f",
   "metadata": {},
   "outputs": [],
   "source": [
    "#도시 연비 값을 [3.4.39,42]로 할당"
   ]
  },
  {
   "cell_type": "markdown",
   "id": "6f056ecf",
   "metadata": {},
   "source": [
    "Q1: drv에 이상치가 있는지 확인"
   ]
  },
  {
   "cell_type": "code",
   "execution_count": 35,
   "id": "a2dbf5c2",
   "metadata": {},
   "outputs": [],
   "source": [
    "#k 값이 4개 존재하는 것을 확인"
   ]
  },
  {
   "cell_type": "code",
   "execution_count": 36,
   "id": "8f295bb6",
   "metadata": {},
   "outputs": [],
   "source": [
    "#drv 이상 값 k에 대해 NaN처리"
   ]
  },
  {
   "cell_type": "code",
   "execution_count": 37,
   "id": "e7fde439",
   "metadata": {},
   "outputs": [],
   "source": [
    "#drv 변수에 이상 값이 몇개인지 확인"
   ]
  },
  {
   "cell_type": "code",
   "execution_count": 38,
   "id": "37222a5a",
   "metadata": {},
   "outputs": [],
   "source": [
    "#drv에 따른 자동차 빈도 수 구하기"
   ]
  },
  {
   "cell_type": "markdown",
   "id": "9b545a62",
   "metadata": {},
   "source": [
    "Q2:상자 그림으로 cty에 이상치가 있는지 확인\n",
    "- (pct25 -1.5 iqr) ~ (pct75 + 1.5 iqr) 범위 밖에 극단 값이 있는지 확인"
   ]
  },
  {
   "cell_type": "code",
   "execution_count": 39,
   "id": "0ece14b9",
   "metadata": {},
   "outputs": [],
   "source": [
    "#도시연비 cty에 이상치가 있는지 확인하기 위해 박스 수염 그래프 그리기\n"
   ]
  },
  {
   "cell_type": "code",
   "execution_count": 40,
   "id": "2d91c99c",
   "metadata": {},
   "outputs": [],
   "source": [
    "# 25% 값 구하기"
   ]
  },
  {
   "cell_type": "code",
   "execution_count": 41,
   "id": "97ad880d",
   "metadata": {},
   "outputs": [],
   "source": [
    "# 75% 값 구하기"
   ]
  },
  {
   "cell_type": "code",
   "execution_count": 42,
   "id": "9c9b2020",
   "metadata": {},
   "outputs": [],
   "source": [
    "# iqr 값 구하기"
   ]
  },
  {
   "cell_type": "code",
   "execution_count": 43,
   "id": "2e95df9e",
   "metadata": {},
   "outputs": [],
   "source": [
    "#극단 값인 경우 NaN처리"
   ]
  },
  {
   "cell_type": "code",
   "execution_count": 44,
   "id": "520e268e",
   "metadata": {},
   "outputs": [],
   "source": [
    "#도시 연비 cty에 대해 박스 수염 그래프 그리기"
   ]
  },
  {
   "cell_type": "markdown",
   "id": "54613946",
   "metadata": {},
   "source": [
    "Q3:구동방식(drv)별로 도시연비(cty) 평균이 어떻게 다른지 확인하기"
   ]
  },
  {
   "cell_type": "code",
   "execution_count": 45,
   "id": "6e815122",
   "metadata": {},
   "outputs": [],
   "source": [
    "#구동방식(drv)과 도시연비(cty)의 이상 값을 제거하고 \n",
    "#구동방식 별로 도시연비 평균이 어떻게 다른지 확인하기"
   ]
  }
 ],
 "metadata": {
  "kernelspec": {
   "display_name": "Python 3 (ipykernel)",
   "language": "python",
   "name": "python3"
  },
  "language_info": {
   "codemirror_mode": {
    "name": "ipython",
    "version": 3
   },
   "file_extension": ".py",
   "mimetype": "text/x-python",
   "name": "python",
   "nbconvert_exporter": "python",
   "pygments_lexer": "ipython3",
   "version": "3.11.4"
  }
 },
 "nbformat": 4,
 "nbformat_minor": 5
}
