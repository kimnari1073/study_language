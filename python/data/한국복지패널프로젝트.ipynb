{
 "cells": [
  {
   "cell_type": "markdown",
   "id": "9d7f3db4",
   "metadata": {},
   "source": [
    "# 한국복지패널 데이터 분석\n",
    "- 한국보건사회연구원에서 우리나라 가구의 경제활동을 연구한 데이터\n",
    "- 전국 7,000여 가구를 선정하여 2006년 부터 매년 추적 조사한 자료\n",
    "- 경제활동, 생활실태, 복지욕구 등 천여개 변수로 구성됨\n",
    "- 통계 패키지 SPSS 전용 파일"
   ]
  },
  {
   "cell_type": "markdown",
   "id": "e8564ce9",
   "metadata": {},
   "source": [
    "### Lab 1: 데이터 분석 준비하기\n",
    "1. 데이터 준비\n",
    "- Koweps_hpwc14_2019_beta2.sav\n",
    "- 2020년 발간된 복지패널 데이터, 6331가구, 14,418명 정보를 담고 있음\n",
    "2. 패키지 설치 및 로드\n",
    "- 데이터 파일은 통계 분석 패키지인 SPSS 전용 파일\n",
    "- pyreadstat 패키지 설치하면 SPSS, SAS, STATA등 다양한 통계 분석 소프트웨어 데이터 파일을 불러올 수 있음\n",
    "- pip install pyreadstat"
   ]
  },
  {
   "cell_type": "code",
   "execution_count": 1,
   "id": "a05928ed",
   "metadata": {},
   "outputs": [],
   "source": [
    "import pandas as pd\n",
    "import numpy as np\n",
    "import seaborn as sns"
   ]
  },
  {
   "cell_type": "code",
   "execution_count": 2,
   "id": "9cd6af2f",
   "metadata": {},
   "outputs": [
    {
     "name": "stdout",
     "output_type": "stream",
     "text": [
      "Name: pyreadstat\n",
      "Version: 1.2.4\n",
      "Summary: Reads and Writes SAS, SPSS and Stata files into/from pandas data frames.\n",
      "Home-page: https://github.com/Roche/pyreadstat\n",
      "Author: Otto Fajardo\n",
      "Author-email: pleasecontactviagithub@notvalid.com\n",
      "License: Apache License Version 2.0\n",
      "Location: D:\\anaconda3\\Lib\\site-packages\n",
      "Requires: pandas\n",
      "Required-by: \n"
     ]
    }
   ],
   "source": [
    "#pyreadstat 패키지 설치\n",
    "# !pip install pyreadstat\n",
    "\n",
    "# pyreadstat 패키지의 설치 정보 확인\n",
    "!pip show pyreadstat"
   ]
  },
  {
   "cell_type": "markdown",
   "id": "cb4d0784",
   "metadata": {},
   "source": [
    "3. 데이터 불러오기\n",
    "- pd.read_spss()로 데이터 불러오기\n",
    "- df.copy()로 복사본을 만들어 분석에 활용한다."
   ]
  },
  {
   "cell_type": "code",
   "execution_count": null,
   "id": "f51d22f4",
   "metadata": {},
   "outputs": [],
   "source": [
    "# SPSS 통계 패키지 전용 파일 데이터 불러오기\n",
    "# SPSS(Statistical Package for the Social Sciences)는 사회 과학용 통계 패키지로\n",
    "# IBM\n",
    "raw_welfare = pd.read_spss('Koweps_hpwc14_2019_beta2.sav')\n",
    "#데이터 분석 작업용 복사본 만들기\n",
    "welfare = raw_welfare.copy()"
   ]
  },
  {
   "cell_type": "markdown",
   "id": "1b37df12",
   "metadata": {},
   "source": [
    "4. 데이터 검토하기\n",
    "- 데이터의 특성을 살펴보기\n",
    "- 행, 열 개수\n",
    "- 변수 속성\n",
    "- 요약 통계량"
   ]
  },
  {
   "cell_type": "code",
   "execution_count": null,
   "id": "acb0c7dc",
   "metadata": {},
   "outputs": [],
   "source": [
    "# 데이터 구조 특징 살펴보기\n",
    "# 변수의 수가 많고 변수명이 코드로 되어 있어서 전체 구조 파악이 힘들다.\n",
    "welfare.head()"
   ]
  },
  {
   "cell_type": "code",
   "execution_count": null,
   "id": "35de9bcd",
   "metadata": {},
   "outputs": [],
   "source": [
    "# 행과 열 개수 출력\n",
    "welfare.shape"
   ]
  },
  {
   "cell_type": "code",
   "execution_count": null,
   "id": "db7a691b",
   "metadata": {},
   "outputs": [],
   "source": [
    "# 요약 통계량\n",
    "welfare.describe()"
   ]
  },
  {
   "cell_type": "markdown",
   "id": "a753f83e",
   "metadata": {},
   "source": [
    "5. 변수명 바꾸기\n",
    "- 복지데이터와 같은 대규모 데이터는 변수의 수가 많고 변수명이 코드로 되어 있다.\n",
    "- 규모가 큰 조사 자료의 경우 데이터 특징을 설명한 코드북을 함께 제공한다.\n",
    "- 코드북에는 변수명과 값의 의미가 설명되어 있다. (코드북을 통해 데이터 특징과 분석 방향 아이디어 도출)\n",
    "- 복지 데이터 코드북 일부 : Koweps_Codebook_2019.xlsx\n",
    "- 7개 변수를 선정하여 분석한다.\n",
    "    - 1단계 : 변수 검토 및 전처리 - 변수 특징을 파악하고, 이상치와 결측치 정제\n",
    "    - 2단계 : 변수 간 관계 분석 - 데이터 요약 표와 특징을 알 수 있는 그래프를 만들고 해석한다"
   ]
  },
  {
   "cell_type": "code",
   "execution_count": null,
   "id": "c6101c5a",
   "metadata": {},
   "outputs": [],
   "source": [
    "# 코드북을 참조하여 분석에 사용할 7개 변수명을 알기쉬운 단어로 변경\n",
    "welfare = welfare.rename(\n",
    "columns = {\n",
    "    'h14_g3':'sex', # 성별\n",
    "    'h14_g4':'birth', # 태어난 연도\n",
    "    'h14_g10':'marriage_type', # 혼인 상태\n",
    "    'h14_g11':'religion', # 종교\n",
    "    'p1402_8aq1':'income', # 일한달의 월 평균 임금\n",
    "    'h14_eco9':'code_job', # 직종\n",
    "    'h14_reg7':'code_region' # 7개 권역별 지역 구분\n",
    "})"
   ]
  },
  {
   "cell_type": "code",
   "execution_count": null,
   "id": "6f436df3",
   "metadata": {},
   "outputs": [],
   "source": [
    "# 바뀐 변수명으로 데이터 확인\n",
    "welfare[['sex','birth','marriage_type','religion','income','code_job','code_region']].head()"
   ]
  },
  {
   "cell_type": "markdown",
   "id": "9595de92",
   "metadata": {},
   "source": [
    "## 성별에 따른 월급 차이 - 성별에 따라 월급에 차이가 있을까?\n",
    "### Lab 2: 성별 변수 검토 및 전처리하기"
   ]
  },
  {
   "cell_type": "markdown",
   "id": "ecdb0ca9",
   "metadata": {},
   "source": [
    "1. 변수 검토하기"
   ]
  },
  {
   "cell_type": "code",
   "execution_count": null,
   "id": "b7d7779c",
   "metadata": {},
   "outputs": [],
   "source": [
    "# 성별로 몇명이 있는지 확인\n",
    "# 성별 변수의 데이터 타입 확인\n",
    "welfare['sex'].dtypes"
   ]
  },
  {
   "cell_type": "code",
   "execution_count": null,
   "id": "cc2fd30e",
   "metadata": {},
   "outputs": [],
   "source": [
    "type(welfare['sex'])"
   ]
  },
  {
   "cell_type": "code",
   "execution_count": null,
   "id": "933cb5b4",
   "metadata": {},
   "outputs": [],
   "source": [
    "#성별 분류별 빈도 수 구하기 (성별은 1, 2로 구성)\n",
    "welfare['sex'].value_counts()"
   ]
  },
  {
   "cell_type": "markdown",
   "id": "e98fcb4d",
   "metadata": {},
   "source": [
    "- 성별 값에 대한 코드북 확인\n",
    "- 여자 7913명, 남자 6505명\n",
    "- 모름/무응답(9) 값은 없는 것으로 확인된다.\n",
    "- 남자 1, 여자 2, 모름/무응답 9"
   ]
  },
  {
   "cell_type": "markdown",
   "id": "62b8f656",
   "metadata": {},
   "source": [
    "2. 전처리 하기\n",
    "- 남자(1), 여자(2) 값 이외에 모름/무응답(9)이나 기타 이상차가 있는 경우 결측 처리\n",
    "- sex 변수의 값 1, 2에 대해 값의 의미를 알기 쉽도록 'male','female'로 변경"
   ]
  },
  {
   "cell_type": "code",
   "execution_count": null,
   "id": "291a29ac",
   "metadata": {},
   "outputs": [],
   "source": [
    "#이상치에 대한 결측치 처리\n",
    "welfare['sex'] = np.where(welfare['sex']==9,np.nan,welfare['sex'])\n",
    "#결측치 확인\n",
    "welfare['sex'].isna().sum()"
   ]
  },
  {
   "cell_type": "code",
   "execution_count": null,
   "id": "532a3e1f",
   "metadata": {},
   "outputs": [],
   "source": [
    "#성별 항목 이름 부여\n",
    "welfare['sex']=np.where(welfare['sex']==1,'male','female')\n",
    "welfare['sex'].value_counts()"
   ]
  },
  {
   "cell_type": "code",
   "execution_count": null,
   "id": "40aaf5ba",
   "metadata": {},
   "outputs": [],
   "source": [
    "#성별 빈도수에 따른 막대 그래프 그리기\n",
    "sns.countplot(data=welfare,x='sex')"
   ]
  },
  {
   "cell_type": "markdown",
   "id": "07d14eeb",
   "metadata": {},
   "source": [
    "#### countplot을 사용하지 않고, barplot을 사용해서 그리려면?"
   ]
  },
  {
   "cell_type": "code",
   "execution_count": null,
   "id": "e53662bf",
   "metadata": {},
   "outputs": [],
   "source": [
    "result = welfare.groupby('sex',as_index=False).agg(n=('sex','count'))\n",
    "result"
   ]
  },
  {
   "cell_type": "code",
   "execution_count": null,
   "id": "193f0bd5",
   "metadata": {},
   "outputs": [],
   "source": [
    "sns.barplot(result,x='sex',y='n')"
   ]
  },
  {
   "cell_type": "markdown",
   "id": "6b4d1bbe",
   "metadata": {},
   "source": [
    "### Lab 3: 월급 변수 검토 및 전처리하기\n",
    "1. 변수 검토하기\n",
    "- 코드북: 월급은 '일한 달의 월 평균 임금'으로 1만원 단위 기록\n",
    "월급은 연속 변수로 그룹별 빈도수(df.value_counts())로 파악하기 어려움\n",
    "연속 변수는 df.describe()로 요약 통계량으로 파악하는 것이 바람직"
   ]
  },
  {
   "cell_type": "code",
   "execution_count": null,
   "id": "f150fba3",
   "metadata": {},
   "outputs": [],
   "source": [
    "#월급 변수의 데이터 타입 확인\n",
    "welfare['income'].dtypes"
   ]
  },
  {
   "cell_type": "code",
   "execution_count": null,
   "id": "49b0de98",
   "metadata": {},
   "outputs": [],
   "source": [
    "#월급의 요약 통계량 구하기\n",
    "welfare['income'].describe()"
   ]
  },
  {
   "cell_type": "markdown",
   "id": "2577c443",
   "metadata": {},
   "source": [
    "월급 요약 통계량 분석\n",
    "- 0~1892만원 분포\n",
    "- 150만원 ~ 345만원에 가장 많이 분포\n",
    "- 평균 값은 268.445만원\n",
    "- 중앙 값은 220만원(전반적으로 낮은 값 쪽으로 치우쳐 있음)"
   ]
  },
  {
   "cell_type": "code",
   "execution_count": null,
   "id": "11e7c9c2",
   "metadata": {},
   "outputs": [],
   "source": [
    "# 월급 분포를 히스토그램으로 확인\n",
    "sns.histplot(data=welfare,x='income')"
   ]
  },
  {
   "cell_type": "code",
   "execution_count": null,
   "id": "5956fe4d",
   "metadata": {},
   "outputs": [],
   "source": [
    "sns.histplot(data=welfare,x='income',bins=10)"
   ]
  },
  {
   "cell_type": "markdown",
   "id": "6b98062c",
   "metadata": {},
   "source": [
    "0~250만원 대에 가장 많은 사람이 분포하고, 그 뒤로 점차 빈도가 감소"
   ]
  },
  {
   "cell_type": "markdown",
   "id": "2410262d",
   "metadata": {},
   "source": [
    "2. 전처리 하기\n",
    "- 코드북을 보면, 원급은 만원 단위로 되어 있고\n",
    "- 모름/무응답은 9999로 코딩됨"
   ]
  },
  {
   "cell_type": "markdown",
   "id": "37f35cc5",
   "metadata": {},
   "source": [
    "        - 이상치나 결측치 확인\n",
    "            - 월급의 값이 9999인 경우, 이상치로 판단하여 결측 처리\n",
    "            - 결측치 확인"
   ]
  },
  {
   "cell_type": "code",
   "execution_count": null,
   "id": "70d36c45",
   "metadata": {},
   "outputs": [],
   "source": [
    "# 이상치 확인\n",
    "welfare['income'].describe()"
   ]
  },
  {
   "cell_type": "code",
   "execution_count": null,
   "id": "bd98d581",
   "metadata": {},
   "outputs": [],
   "source": [
    "welfare['income'].head()"
   ]
  },
  {
   "cell_type": "markdown",
   "id": "4ed03e0e",
   "metadata": {},
   "source": [
    "- 이상치 확인: 월급 최대치가 1892만원.\n",
    "- 모름/무응답 (9999)는 없는 것으로 확인"
   ]
  },
  {
   "cell_type": "code",
   "execution_count": null,
   "id": "28bc449b",
   "metadata": {},
   "outputs": [],
   "source": [
    "# 결측치 확인\n",
    "# 직업이 없어서 월급을 받지 못하는 응답자\n",
    "welfare['income'].isna().sum()"
   ]
  },
  {
   "cell_type": "code",
   "execution_count": null,
   "id": "720a536d",
   "metadata": {},
   "outputs": [],
   "source": [
    "# 이상치(9999) 결측 처리\n",
    "welfare['income'] = np.where(welfare['income']==9999,np.nan,welfare['income'])"
   ]
  },
  {
   "cell_type": "code",
   "execution_count": null,
   "id": "2483cacd",
   "metadata": {},
   "outputs": [],
   "source": [
    "# 결측치 제거\n",
    "# welfare.dropna(subset=['income'])['income'].isna().sum()"
   ]
  },
  {
   "cell_type": "markdown",
   "id": "5c3a5db6",
   "metadata": {},
   "source": [
    "### Lab 4: 성별에 따른 월급 차이 분석하기\n",
    "1. 성별 원급 평균표 만들기"
   ]
  },
  {
   "cell_type": "code",
   "execution_count": null,
   "id": "124c0536",
   "metadata": {},
   "outputs": [],
   "source": [
    "# 성별 월급 평균표 만들기\n",
    "sex_income = welfare.dropna(subset = ['income'])\\\n",
    "                    .groupby('sex',as_index=False)\\\n",
    "                    .agg(mean_income = ('income','mean'))\n",
    "sex_income"
   ]
  },
  {
   "cell_type": "code",
   "execution_count": null,
   "id": "693ce1a8",
   "metadata": {},
   "outputs": [],
   "source": [
    "# 그래프 만들기\n",
    "sns.barplot(data=sex_income,x='sex',y='mean_income')"
   ]
  },
  {
   "cell_type": "code",
   "execution_count": null,
   "id": "6e5a92ca",
   "metadata": {},
   "outputs": [],
   "source": []
  }
 ],
 "metadata": {
  "kernelspec": {
   "display_name": "Python 3 (ipykernel)",
   "language": "python",
   "name": "python3"
  },
  "language_info": {
   "codemirror_mode": {
    "name": "ipython",
    "version": 3
   },
   "file_extension": ".py",
   "mimetype": "text/x-python",
   "name": "python",
   "nbconvert_exporter": "python",
   "pygments_lexer": "ipython3",
   "version": "3.11.4"
  }
 },
 "nbformat": 4,
 "nbformat_minor": 5
}
