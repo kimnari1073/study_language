{
 "cells": [
  {
   "cell_type": "code",
   "execution_count": 1,
   "id": "759d9632",
   "metadata": {},
   "outputs": [],
   "source": [
    "import seaborn as sns\n",
    "# 미리설정할것\n",
    "# graph 관련 warning 이 나오지 않게 세팅하기\n",
    "import warnings\n",
    "warnings.filterwarnings(action='ignore')\n",
    "#warning이 원래 기본 세팅으로 변경하기 (기본세팅 = warning 표시)\n",
    "#warnings.filterwarnings(action='default')\n",
    "#2. 한글 폰트 설정\n",
    "# 시각화 모듈 임포트\n",
    "import matplotlib.pyplot as plt\n",
    "# unicode minus를 사용하지 않기 위한 설정 (minus 깨짐현상 방지)\n",
    "plt.rcParams['axes.unicode_minus'] = False\n",
    "# font를 나눔고딕으로 세팅 'NanumGothic' - windows\n",
    "#plt.rcParams['font.family'] = 'NanumGothic'\n",
    "# 맑은고딕 - windows\n",
    "#plt.rcParams['font.family'] = 'Malgun Gothic'\n",
    "# 애플고딕 - Mac OS\n",
    "#plt.rcParams['font.family'] = 'AppleGothic'"
   ]
  },
  {
   "cell_type": "markdown",
   "id": "853aa873",
   "metadata": {},
   "source": [
    "# 8-3 막대 그래프 - 집단 간 차이 표현하기\n",
    "- 성별 소득 차이 처럼 집단 간 차이를 표시할 때 사용"
   ]
  },
  {
   "cell_type": "markdown",
   "id": "a35edb1c",
   "metadata": {},
   "source": [
    "## Lab 1:평균 막대 그래프 그리기\n",
    "### 1. 집단별 평균표 만들기\n",
    "구동방식(drv)별 고속도로 연비 평균 비교 그래프 만들기"
   ]
  },
  {
   "cell_type": "code",
   "execution_count": 2,
   "id": "54baba72",
   "metadata": {},
   "outputs": [],
   "source": [
    "import pandas as pd\n",
    "mpg = pd.read_csv('mpg.csv')"
   ]
  },
  {
   "cell_type": "code",
   "execution_count": 3,
   "id": "b7281371",
   "metadata": {},
   "outputs": [
    {
     "data": {
      "text/html": [
       "<div>\n",
       "<style scoped>\n",
       "    .dataframe tbody tr th:only-of-type {\n",
       "        vertical-align: middle;\n",
       "    }\n",
       "\n",
       "    .dataframe tbody tr th {\n",
       "        vertical-align: top;\n",
       "    }\n",
       "\n",
       "    .dataframe thead th {\n",
       "        text-align: right;\n",
       "    }\n",
       "</style>\n",
       "<table border=\"1\" class=\"dataframe\">\n",
       "  <thead>\n",
       "    <tr style=\"text-align: right;\">\n",
       "      <th></th>\n",
       "      <th>drv</th>\n",
       "      <th>mean_hwy</th>\n",
       "    </tr>\n",
       "  </thead>\n",
       "  <tbody>\n",
       "    <tr>\n",
       "      <th>0</th>\n",
       "      <td>4</td>\n",
       "      <td>19.174757</td>\n",
       "    </tr>\n",
       "    <tr>\n",
       "      <th>1</th>\n",
       "      <td>f</td>\n",
       "      <td>28.160377</td>\n",
       "    </tr>\n",
       "    <tr>\n",
       "      <th>2</th>\n",
       "      <td>r</td>\n",
       "      <td>21.000000</td>\n",
       "    </tr>\n",
       "  </tbody>\n",
       "</table>\n",
       "</div>"
      ],
      "text/plain": [
       "  drv   mean_hwy\n",
       "0   4  19.174757\n",
       "1   f  28.160377\n",
       "2   r  21.000000"
      ]
     },
     "execution_count": 3,
     "metadata": {},
     "output_type": "execute_result"
    }
   ],
   "source": [
    "#그룹에 사용하는 컬럼(변수)이 기본적으로 인덱스가 된다.\n",
    "#컬럼(변수)을 인덱스로 생성하지 않기 위해서 'as_index=False' 사용\n",
    "df_mpg = mpg.groupby('drv',as_index=False).agg(mean_hwy=('hwy','mean'))\n",
    "df_mpg"
   ]
  },
  {
   "cell_type": "code",
   "execution_count": 4,
   "id": "a26f0a24",
   "metadata": {},
   "outputs": [
    {
     "data": {
      "text/plain": [
       "<Axes: xlabel='drv', ylabel='mean_hwy'>"
      ]
     },
     "execution_count": 4,
     "metadata": {},
     "output_type": "execute_result"
    },
    {
     "data": {
      "image/png": "[encoded data removed]",
      "text/plain": [
       "<Figure size 640x480 with 1 Axes>"
      ]
     },
     "metadata": {},
     "output_type": "display_data"
    }
   ],
   "source": [
    "sns.barplot(data=df_mpg,x='drv',y='mean_hwy')"
   ]
  },
  {
   "cell_type": "code",
   "execution_count": 5,
   "id": "f8e68a79",
   "metadata": {},
   "outputs": [
    {
     "data": {
      "text/plain": [
       "<Axes: xlabel='drv', ylabel='mean_hwy'>"
      ]
     },
     "execution_count": 5,
     "metadata": {},
     "output_type": "execute_result"
    },
    {
     "data": {
      "image/png": "[encoded data removed]",
      "text/plain": [
       "<Figure size 640x480 with 1 Axes>"
      ]
     },
     "metadata": {},
     "output_type": "display_data"
    }
   ],
   "source": [
    "#크기 순위로 정렬\n",
    "df_mpg = df_mpg.sort_values('mean_hwy', ascending=False)\n",
    "sns.barplot(data=df_mpg,x='drv',y='mean_hwy')"
   ]
  },
  {
   "cell_type": "markdown",
   "id": "5be0598f",
   "metadata": {},
   "source": [
    "## Lab 2: 빈도 막대 그래프 그리기\n",
    "### 1. 집단별 빈도표 만들기\n",
    "mpg 데이터에서 구동방식별 빈도표 만들기"
   ]
  },
  {
   "cell_type": "code",
   "execution_count": 6,
   "id": "9ef2d887",
   "metadata": {},
   "outputs": [
    {
     "data": {
      "text/html": [
       "<div>\n",
       "<style scoped>\n",
       "    .dataframe tbody tr th:only-of-type {\n",
       "        vertical-align: middle;\n",
       "    }\n",
       "\n",
       "    .dataframe tbody tr th {\n",
       "        vertical-align: top;\n",
       "    }\n",
       "\n",
       "    .dataframe thead th {\n",
       "        text-align: right;\n",
       "    }\n",
       "</style>\n",
       "<table border=\"1\" class=\"dataframe\">\n",
       "  <thead>\n",
       "    <tr style=\"text-align: right;\">\n",
       "      <th></th>\n",
       "      <th>drv</th>\n",
       "      <th>count_drv</th>\n",
       "    </tr>\n",
       "  </thead>\n",
       "  <tbody>\n",
       "    <tr>\n",
       "      <th>0</th>\n",
       "      <td>4</td>\n",
       "      <td>103</td>\n",
       "    </tr>\n",
       "    <tr>\n",
       "      <th>1</th>\n",
       "      <td>f</td>\n",
       "      <td>106</td>\n",
       "    </tr>\n",
       "    <tr>\n",
       "      <th>2</th>\n",
       "      <td>r</td>\n",
       "      <td>25</td>\n",
       "    </tr>\n",
       "  </tbody>\n",
       "</table>\n",
       "</div>"
      ],
      "text/plain": [
       "  drv  count_drv\n",
       "0   4        103\n",
       "1   f        106\n",
       "2   r         25"
      ]
     },
     "execution_count": 6,
     "metadata": {},
     "output_type": "execute_result"
    }
   ],
   "source": [
    "#구동방식별 빈도표 만들기\n",
    "#groupby를 하면 'drv'로 오름차순 정렬을 해준다.\n",
    "df_mpg = mpg.groupby('drv',as_index=False).agg(count_drv=('drv','count'))\n",
    "df_mpg"
   ]
  },
  {
   "cell_type": "code",
   "execution_count": 7,
   "id": "e71e3738",
   "metadata": {},
   "outputs": [
    {
     "data": {
      "text/plain": [
       "<Axes: xlabel='drv', ylabel='count_drv'>"
      ]
     },
     "execution_count": 7,
     "metadata": {},
     "output_type": "execute_result"
    },
    {
     "data": {
      "image/png": "[encoded data removed]",
      "text/plain": [
       "<Figure size 640x480 with 1 Axes>"
      ]
     },
     "metadata": {},
     "output_type": "display_data"
    }
   ],
   "source": [
    "#구동 방식별 막대 그래프 만들기\n",
    "sns.barplot(data=df_mpg,x='drv',y='count_drv')"
   ]
  },
  {
   "cell_type": "code",
   "execution_count": 8,
   "id": "033dc083",
   "metadata": {},
   "outputs": [
    {
     "data": {
      "text/plain": [
       "<Axes: xlabel='drv', ylabel='count'>"
      ]
     },
     "execution_count": 8,
     "metadata": {},
     "output_type": "execute_result"
    },
    {
     "data": {
      "image/png": "[encoded data removed]",
      "text/plain": [
       "<Figure size 640x480 with 1 Axes>"
      ]
     },
     "metadata": {},
     "output_type": "display_data"
    }
   ],
   "source": [
    "#sns.countplot()으로 빈도 막대 그래프 만들기\n",
    "sns.countplot(data=mpg, x='drv',order=['4','f','r'])"
   ]
  },
  {
   "cell_type": "markdown",
   "id": "f0dd41d1",
   "metadata": {},
   "source": [
    "### 2. index가 아닌 값의 내림차순으로 정리하는 방법을 찾아보자\n",
    "'model'로 변수를 groupby를 하면 더 확실히 알 수 있다. 순서가 확실히 바뀐다"
   ]
  },
  {
   "cell_type": "code",
   "execution_count": 9,
   "id": "463409e2",
   "metadata": {},
   "outputs": [
    {
     "data": {
      "text/html": [
       "<div>\n",
       "<style scoped>\n",
       "    .dataframe tbody tr th:only-of-type {\n",
       "        vertical-align: middle;\n",
       "    }\n",
       "\n",
       "    .dataframe tbody tr th {\n",
       "        vertical-align: top;\n",
       "    }\n",
       "\n",
       "    .dataframe thead th {\n",
       "        text-align: right;\n",
       "    }\n",
       "</style>\n",
       "<table border=\"1\" class=\"dataframe\">\n",
       "  <thead>\n",
       "    <tr style=\"text-align: right;\">\n",
       "      <th></th>\n",
       "      <th>model</th>\n",
       "    </tr>\n",
       "  </thead>\n",
       "  <tbody>\n",
       "    <tr>\n",
       "      <th>0</th>\n",
       "      <td>a4</td>\n",
       "    </tr>\n",
       "    <tr>\n",
       "      <th>1</th>\n",
       "      <td>a4</td>\n",
       "    </tr>\n",
       "    <tr>\n",
       "      <th>2</th>\n",
       "      <td>a4</td>\n",
       "    </tr>\n",
       "    <tr>\n",
       "      <th>3</th>\n",
       "      <td>a4</td>\n",
       "    </tr>\n",
       "    <tr>\n",
       "      <th>4</th>\n",
       "      <td>a4</td>\n",
       "    </tr>\n",
       "    <tr>\n",
       "      <th>5</th>\n",
       "      <td>a4</td>\n",
       "    </tr>\n",
       "    <tr>\n",
       "      <th>6</th>\n",
       "      <td>a4</td>\n",
       "    </tr>\n",
       "    <tr>\n",
       "      <th>7</th>\n",
       "      <td>a4 quattro</td>\n",
       "    </tr>\n",
       "    <tr>\n",
       "      <th>8</th>\n",
       "      <td>a4 quattro</td>\n",
       "    </tr>\n",
       "    <tr>\n",
       "      <th>9</th>\n",
       "      <td>a4 quattro</td>\n",
       "    </tr>\n",
       "  </tbody>\n",
       "</table>\n",
       "</div>"
      ],
      "text/plain": [
       "        model\n",
       "0          a4\n",
       "1          a4\n",
       "2          a4\n",
       "3          a4\n",
       "4          a4\n",
       "5          a4\n",
       "6          a4\n",
       "7  a4 quattro\n",
       "8  a4 quattro\n",
       "9  a4 quattro"
      ]
     },
     "execution_count": 9,
     "metadata": {},
     "output_type": "execute_result"
    }
   ],
   "source": [
    "mpg[['model']].head(10)"
   ]
  },
  {
   "cell_type": "code",
   "execution_count": 10,
   "id": "0891aa57",
   "metadata": {},
   "outputs": [
    {
     "data": {
      "text/plain": [
       "array(['a4', 'a4 quattro', 'a6 quattro', 'c1500 suburban 2wd', 'corvette',\n",
       "       'k1500 tahoe 4wd', 'malibu', 'caravan 2wd', 'dakota pickup 4wd',\n",
       "       'durango 4wd', 'ram 1500 pickup 4wd', 'expedition 2wd',\n",
       "       'explorer 4wd', 'f150 pickup 4wd', 'mustang', 'civic', 'sonata',\n",
       "       'tiburon', 'grand cherokee 4wd', 'range rover', 'navigator 2wd',\n",
       "       'mountaineer 4wd', 'altima', 'maxima', 'pathfinder 4wd',\n",
       "       'grand prix', 'forester awd', 'impreza awd', '4runner 4wd',\n",
       "       'camry', 'camry solara', 'corolla', 'land cruiser wagon 4wd',\n",
       "       'toyota tacoma 4wd', 'gti', 'jetta', 'new beetle', 'passat'],\n",
       "      dtype=object)"
      ]
     },
     "execution_count": 10,
     "metadata": {},
     "output_type": "execute_result"
    }
   ],
   "source": [
    "mpg['model'].unique()"
   ]
  },
  {
   "cell_type": "code",
   "execution_count": 11,
   "id": "3ff27f36",
   "metadata": {},
   "outputs": [
    {
     "data": {
      "text/html": [
       "<div>\n",
       "<style scoped>\n",
       "    .dataframe tbody tr th:only-of-type {\n",
       "        vertical-align: middle;\n",
       "    }\n",
       "\n",
       "    .dataframe tbody tr th {\n",
       "        vertical-align: top;\n",
       "    }\n",
       "\n",
       "    .dataframe thead th {\n",
       "        text-align: right;\n",
       "    }\n",
       "</style>\n",
       "<table border=\"1\" class=\"dataframe\">\n",
       "  <thead>\n",
       "    <tr style=\"text-align: right;\">\n",
       "      <th></th>\n",
       "      <th>model</th>\n",
       "      <th>model_count</th>\n",
       "    </tr>\n",
       "  </thead>\n",
       "  <tbody>\n",
       "    <tr>\n",
       "      <th>0</th>\n",
       "      <td>4runner 4wd</td>\n",
       "      <td>6</td>\n",
       "    </tr>\n",
       "    <tr>\n",
       "      <th>1</th>\n",
       "      <td>a4</td>\n",
       "      <td>7</td>\n",
       "    </tr>\n",
       "    <tr>\n",
       "      <th>2</th>\n",
       "      <td>a4 quattro</td>\n",
       "      <td>8</td>\n",
       "    </tr>\n",
       "    <tr>\n",
       "      <th>3</th>\n",
       "      <td>a6 quattro</td>\n",
       "      <td>3</td>\n",
       "    </tr>\n",
       "    <tr>\n",
       "      <th>4</th>\n",
       "      <td>altima</td>\n",
       "      <td>6</td>\n",
       "    </tr>\n",
       "    <tr>\n",
       "      <th>5</th>\n",
       "      <td>c1500 suburban 2wd</td>\n",
       "      <td>5</td>\n",
       "    </tr>\n",
       "    <tr>\n",
       "      <th>6</th>\n",
       "      <td>camry</td>\n",
       "      <td>7</td>\n",
       "    </tr>\n",
       "    <tr>\n",
       "      <th>7</th>\n",
       "      <td>camry solara</td>\n",
       "      <td>7</td>\n",
       "    </tr>\n",
       "    <tr>\n",
       "      <th>8</th>\n",
       "      <td>caravan 2wd</td>\n",
       "      <td>11</td>\n",
       "    </tr>\n",
       "    <tr>\n",
       "      <th>9</th>\n",
       "      <td>civic</td>\n",
       "      <td>9</td>\n",
       "    </tr>\n",
       "    <tr>\n",
       "      <th>10</th>\n",
       "      <td>corolla</td>\n",
       "      <td>5</td>\n",
       "    </tr>\n",
       "    <tr>\n",
       "      <th>11</th>\n",
       "      <td>corvette</td>\n",
       "      <td>5</td>\n",
       "    </tr>\n",
       "    <tr>\n",
       "      <th>12</th>\n",
       "      <td>dakota pickup 4wd</td>\n",
       "      <td>9</td>\n",
       "    </tr>\n",
       "    <tr>\n",
       "      <th>13</th>\n",
       "      <td>durango 4wd</td>\n",
       "      <td>7</td>\n",
       "    </tr>\n",
       "    <tr>\n",
       "      <th>14</th>\n",
       "      <td>expedition 2wd</td>\n",
       "      <td>3</td>\n",
       "    </tr>\n",
       "    <tr>\n",
       "      <th>15</th>\n",
       "      <td>explorer 4wd</td>\n",
       "      <td>6</td>\n",
       "    </tr>\n",
       "    <tr>\n",
       "      <th>16</th>\n",
       "      <td>f150 pickup 4wd</td>\n",
       "      <td>7</td>\n",
       "    </tr>\n",
       "    <tr>\n",
       "      <th>17</th>\n",
       "      <td>forester awd</td>\n",
       "      <td>6</td>\n",
       "    </tr>\n",
       "    <tr>\n",
       "      <th>18</th>\n",
       "      <td>grand cherokee 4wd</td>\n",
       "      <td>8</td>\n",
       "    </tr>\n",
       "    <tr>\n",
       "      <th>19</th>\n",
       "      <td>grand prix</td>\n",
       "      <td>5</td>\n",
       "    </tr>\n",
       "    <tr>\n",
       "      <th>20</th>\n",
       "      <td>gti</td>\n",
       "      <td>5</td>\n",
       "    </tr>\n",
       "    <tr>\n",
       "      <th>21</th>\n",
       "      <td>impreza awd</td>\n",
       "      <td>8</td>\n",
       "    </tr>\n",
       "    <tr>\n",
       "      <th>22</th>\n",
       "      <td>jetta</td>\n",
       "      <td>9</td>\n",
       "    </tr>\n",
       "    <tr>\n",
       "      <th>23</th>\n",
       "      <td>k1500 tahoe 4wd</td>\n",
       "      <td>4</td>\n",
       "    </tr>\n",
       "    <tr>\n",
       "      <th>24</th>\n",
       "      <td>land cruiser wagon 4wd</td>\n",
       "      <td>2</td>\n",
       "    </tr>\n",
       "    <tr>\n",
       "      <th>25</th>\n",
       "      <td>malibu</td>\n",
       "      <td>5</td>\n",
       "    </tr>\n",
       "    <tr>\n",
       "      <th>26</th>\n",
       "      <td>maxima</td>\n",
       "      <td>3</td>\n",
       "    </tr>\n",
       "    <tr>\n",
       "      <th>27</th>\n",
       "      <td>mountaineer 4wd</td>\n",
       "      <td>4</td>\n",
       "    </tr>\n",
       "    <tr>\n",
       "      <th>28</th>\n",
       "      <td>mustang</td>\n",
       "      <td>9</td>\n",
       "    </tr>\n",
       "    <tr>\n",
       "      <th>29</th>\n",
       "      <td>navigator 2wd</td>\n",
       "      <td>3</td>\n",
       "    </tr>\n",
       "    <tr>\n",
       "      <th>30</th>\n",
       "      <td>new beetle</td>\n",
       "      <td>6</td>\n",
       "    </tr>\n",
       "    <tr>\n",
       "      <th>31</th>\n",
       "      <td>passat</td>\n",
       "      <td>7</td>\n",
       "    </tr>\n",
       "    <tr>\n",
       "      <th>32</th>\n",
       "      <td>pathfinder 4wd</td>\n",
       "      <td>4</td>\n",
       "    </tr>\n",
       "    <tr>\n",
       "      <th>33</th>\n",
       "      <td>ram 1500 pickup 4wd</td>\n",
       "      <td>10</td>\n",
       "    </tr>\n",
       "    <tr>\n",
       "      <th>34</th>\n",
       "      <td>range rover</td>\n",
       "      <td>4</td>\n",
       "    </tr>\n",
       "    <tr>\n",
       "      <th>35</th>\n",
       "      <td>sonata</td>\n",
       "      <td>7</td>\n",
       "    </tr>\n",
       "    <tr>\n",
       "      <th>36</th>\n",
       "      <td>tiburon</td>\n",
       "      <td>7</td>\n",
       "    </tr>\n",
       "    <tr>\n",
       "      <th>37</th>\n",
       "      <td>toyota tacoma 4wd</td>\n",
       "      <td>7</td>\n",
       "    </tr>\n",
       "  </tbody>\n",
       "</table>\n",
       "</div>"
      ],
      "text/plain": [
       "                     model  model_count\n",
       "0              4runner 4wd            6\n",
       "1                       a4            7\n",
       "2               a4 quattro            8\n",
       "3               a6 quattro            3\n",
       "4                   altima            6\n",
       "5       c1500 suburban 2wd            5\n",
       "6                    camry            7\n",
       "7             camry solara            7\n",
       "8              caravan 2wd           11\n",
       "9                    civic            9\n",
       "10                 corolla            5\n",
       "11                corvette            5\n",
       "12       dakota pickup 4wd            9\n",
       "13             durango 4wd            7\n",
       "14          expedition 2wd            3\n",
       "15            explorer 4wd            6\n",
       "16         f150 pickup 4wd            7\n",
       "17            forester awd            6\n",
       "18      grand cherokee 4wd            8\n",
       "19              grand prix            5\n",
       "20                     gti            5\n",
       "21             impreza awd            8\n",
       "22                   jetta            9\n",
       "23         k1500 tahoe 4wd            4\n",
       "24  land cruiser wagon 4wd            2\n",
       "25                  malibu            5\n",
       "26                  maxima            3\n",
       "27         mountaineer 4wd            4\n",
       "28                 mustang            9\n",
       "29           navigator 2wd            3\n",
       "30              new beetle            6\n",
       "31                  passat            7\n",
       "32          pathfinder 4wd            4\n",
       "33     ram 1500 pickup 4wd           10\n",
       "34             range rover            4\n",
       "35                  sonata            7\n",
       "36                 tiburon            7\n",
       "37       toyota tacoma 4wd            7"
      ]
     },
     "execution_count": 11,
     "metadata": {},
     "output_type": "execute_result"
    }
   ],
   "source": [
    "model_count_mpg=mpg.groupby('model',as_index=False).agg(model_count=('model','count'))\n",
    "model_count_mpg"
   ]
  },
  {
   "cell_type": "code",
   "execution_count": 12,
   "id": "68832d8a",
   "metadata": {},
   "outputs": [
    {
     "data": {
      "text/plain": [
       "array(['4runner 4wd', 'a4', 'a4 quattro', 'a6 quattro', 'altima',\n",
       "       'c1500 suburban 2wd', 'camry', 'camry solara', 'caravan 2wd',\n",
       "       'civic', 'corolla', 'corvette', 'dakota pickup 4wd', 'durango 4wd',\n",
       "       'expedition 2wd', 'explorer 4wd', 'f150 pickup 4wd',\n",
       "       'forester awd', 'grand cherokee 4wd', 'grand prix', 'gti',\n",
       "       'impreza awd', 'jetta', 'k1500 tahoe 4wd',\n",
       "       'land cruiser wagon 4wd', 'malibu', 'maxima', 'mountaineer 4wd',\n",
       "       'mustang', 'navigator 2wd', 'new beetle', 'passat',\n",
       "       'pathfinder 4wd', 'ram 1500 pickup 4wd', 'range rover', 'sonata',\n",
       "       'tiburon', 'toyota tacoma 4wd'], dtype=object)"
      ]
     },
     "execution_count": 12,
     "metadata": {},
     "output_type": "execute_result"
    }
   ],
   "source": [
    "model_count_mpg['model'].unique()"
   ]
  },
  {
   "cell_type": "code",
   "execution_count": 13,
   "id": "babbae0f",
   "metadata": {},
   "outputs": [
    {
     "data": {
      "text/plain": [
       "caravan 2wd               11\n",
       "ram 1500 pickup 4wd       10\n",
       "civic                      9\n",
       "jetta                      9\n",
       "dakota pickup 4wd          9\n",
       "mustang                    9\n",
       "impreza awd                8\n",
       "a4 quattro                 8\n",
       "grand cherokee 4wd         8\n",
       "a4                         7\n",
       "toyota tacoma 4wd          7\n",
       "camry solara               7\n",
       "camry                      7\n",
       "tiburon                    7\n",
       "sonata                     7\n",
       "passat                     7\n",
       "f150 pickup 4wd            7\n",
       "durango 4wd                7\n",
       "explorer 4wd               6\n",
       "new beetle                 6\n",
       "altima                     6\n",
       "4runner 4wd                6\n",
       "forester awd               6\n",
       "gti                        5\n",
       "c1500 suburban 2wd         5\n",
       "corolla                    5\n",
       "corvette                   5\n",
       "malibu                     5\n",
       "grand prix                 5\n",
       "k1500 tahoe 4wd            4\n",
       "pathfinder 4wd             4\n",
       "mountaineer 4wd            4\n",
       "range rover                4\n",
       "maxima                     3\n",
       "navigator 2wd              3\n",
       "a6 quattro                 3\n",
       "expedition 2wd             3\n",
       "land cruiser wagon 4wd     2\n",
       "Name: model, dtype: int64"
      ]
     },
     "execution_count": 13,
     "metadata": {},
     "output_type": "execute_result"
    }
   ],
   "source": [
    "#자주 나오는 순서대로 정렬\n",
    "mpg['model'].value_counts()"
   ]
  },
  {
   "cell_type": "code",
   "execution_count": 14,
   "id": "9e103525",
   "metadata": {},
   "outputs": [
    {
     "data": {
      "text/plain": [
       "Index(['caravan 2wd', 'ram 1500 pickup 4wd', 'civic', 'jetta',\n",
       "       'dakota pickup 4wd', 'mustang', 'impreza awd', 'a4 quattro',\n",
       "       'grand cherokee 4wd', 'a4', 'toyota tacoma 4wd', 'camry solara',\n",
       "       'camry', 'tiburon', 'sonata', 'passat', 'f150 pickup 4wd',\n",
       "       'durango 4wd', 'explorer 4wd', 'new beetle', 'altima', '4runner 4wd',\n",
       "       'forester awd', 'gti', 'c1500 suburban 2wd', 'corolla', 'corvette',\n",
       "       'malibu', 'grand prix', 'k1500 tahoe 4wd', 'pathfinder 4wd',\n",
       "       'mountaineer 4wd', 'range rover', 'maxima', 'navigator 2wd',\n",
       "       'a6 quattro', 'expedition 2wd', 'land cruiser wagon 4wd'],\n",
       "      dtype='object')"
      ]
     },
     "execution_count": 14,
     "metadata": {},
     "output_type": "execute_result"
    }
   ],
   "source": [
    "mpg['model'].value_counts().index"
   ]
  },
  {
   "cell_type": "code",
   "execution_count": 15,
   "id": "67871ac8",
   "metadata": {},
   "outputs": [
    {
     "data": {
      "text/plain": [
       "<Axes: xlabel='model', ylabel='count'>"
      ]
     },
     "execution_count": 15,
     "metadata": {},
     "output_type": "execute_result"
    },
    {
     "data": {
      "image/png": "[encoded data removed]",
      "text/plain": [
       "<Figure size 640x480 with 1 Axes>"
      ]
     },
     "metadata": {},
     "output_type": "display_data"
    }
   ],
   "source": [
    "#sns.countplot()으로 빈도 막대 그래프 만들기\n",
    "sns.countplot(data = mpg, x='model',order=mpg['model'].value_counts().index)"
   ]
  },
  {
   "cell_type": "code",
   "execution_count": 16,
   "id": "fc67fb00",
   "metadata": {},
   "outputs": [
    {
     "data": {
      "text/plain": [
       "<Axes: xlabel='model', ylabel='count'>"
      ]
     },
     "execution_count": 16,
     "metadata": {},
     "output_type": "execute_result"
    },
    {
     "data": {
      "image/png": "[encoded data removed]",
      "text/plain": [
       "<Figure size 640x480 with 1 Axes>"
      ]
     },
     "metadata": {},
     "output_type": "display_data"
    }
   ],
   "source": [
    "#갯수를 줄이고 싶으면 head()를 사용\n",
    "sns.countplot(data = mpg, x='model',order=mpg['model'].value_counts().head(5).index)"
   ]
  }
 ],
 "metadata": {
  "kernelspec": {
   "display_name": "Python 3 (ipykernel)",
   "language": "python",
   "name": "python3"
  },
  "language_info": {
   "codemirror_mode": {
    "name": "ipython",
    "version": 3
   },
   "file_extension": ".py",
   "mimetype": "text/x-python",
   "name": "python",
   "nbconvert_exporter": "python",
   "pygments_lexer": "ipython3",
   "version": "3.11.4"
  }
 },
 "nbformat": 4,
 "nbformat_minor": 5
}
